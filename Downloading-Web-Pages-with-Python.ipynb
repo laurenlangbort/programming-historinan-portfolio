{
 "cells": [
  {
   "cell_type": "code",
   "execution_count": 4,
   "id": "286d4e96",
   "metadata": {},
   "outputs": [
    {
     "name": "stdout",
     "output_type": "stream",
     "text": [
      "<!doctype html><html lang=\"en\"><head><meta charset=\"utf-8\"/><link rel=\"icon\" href=\"/favicon.ico\"/><meta name=\"viewport\" content=\"width=device-width,initial-scale=1\"/><meta name=\"theme-color\" content=\"#452121\"/><meta name=\"description\" content=\"A searchable online edition of the Proceedings of the Ol\n"
     ]
    }
   ],
   "source": [
    "import urllib.request, urllib.error, urllib.parse\n",
    "\n",
    "url = 'http://www.oldbaileyonline.org/browse.jsp?id=t17800628-33&div=t17800628-33'\n",
    "\n",
    "response = urllib.request.urlopen(url)\n",
    "webContent = response.read().decode('UTF-8')\n",
    "\n",
    "print(webContent[0:300])"
   ]
  },
  {
   "cell_type": "code",
   "execution_count": 5,
   "id": "13b7393e",
   "metadata": {},
   "outputs": [
    {
     "data": {
      "text/plain": [
       "<function TextIOWrapper.close()>"
      ]
     },
     "execution_count": 5,
     "metadata": {},
     "output_type": "execute_result"
    }
   ],
   "source": [
    "\n",
    "import urllib.request, urllib.error, urllib.parse\n",
    "\n",
    "url = 'http://www.oldbaileyonline.org/browse.jsp?id=t17800628-33&div=t17800628-33'\n",
    "\n",
    "response = urllib.request.urlopen(url)\n",
    "webContent = response.read().decode('UTF-8')\n",
    "\n",
    "f = open('obo-t17800628-33.html', 'w')\n",
    "f.write(webContent)\n",
    "f.close"
   ]
  },
  {
   "cell_type": "code",
   "execution_count": null,
   "id": "78aba284",
   "metadata": {},
   "outputs": [],
   "source": []
  }
 ],
 "metadata": {
  "kernelspec": {
   "display_name": "Python 3",
   "language": "python",
   "name": "python3"
  },
  "language_info": {
   "codemirror_mode": {
    "name": "ipython",
    "version": 3
   },
   "file_extension": ".py",
   "mimetype": "text/x-python",
   "name": "python",
   "nbconvert_exporter": "python",
   "pygments_lexer": "ipython3",
   "version": "3.12.1"
  }
 },
 "nbformat": 4,
 "nbformat_minor": 5
}
