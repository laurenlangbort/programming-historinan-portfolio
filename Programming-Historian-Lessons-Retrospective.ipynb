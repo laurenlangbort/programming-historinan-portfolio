{
 "cells": [
  {
   "cell_type": "markdown",
   "id": "12365b4b",
   "metadata": {},
   "source": [
    "<h1>Programming Historian Lessons Retrospective</h1>"
   ]
  },
  {
   "cell_type": "markdown",
   "id": "5b9b19b0",
   "metadata": {},
   "source": [
    "<h2> Lesson 1: Creating Interactive Visualizations with Plotly </h2>\n",
    "<ul> \n",
    "    <li> \n",
    "        <a href=\"https://programminghistorian.org/en/lessons/interactive-visualization-with-plotly\">\n",
    "            Programming Historian Lesson\n",
    "        </a>\n",
    "    </li>\n",
    "    <li> \n",
    "        <a href=\"/Creating-Interactive-Visualizations-with-Plotly.ipynb\">\n",
    "            My File\n",
    "        </a>\n",
    "    </li>\n",
    "</ul>\n",
    "<p> Brief Recap: I picked out this lesson because I wanted to learn more about librarys you can use in python. I am a CBS major and often create datasets for research so I thought it would be cool to try and learn in Python. Plotly was really cool. In this lesson I learned different plot systems that could be created with plotly, like scatter graphs, bar graphs, and line graphs. I also learned how to have more customization over the graphs like using facet plots to compare different subsets of data like separating by gender and comparing the outcomes. Also one of my favorite parts of the lessons was learning the animations for graphs with an animation frame, where you can input a certain variable to measure for change. </p>\n"
   ]
  },
  {
   "cell_type": "markdown",
   "id": "6e9a8d56",
   "metadata": {},
   "source": [
    "<h2> Lesson 2: Counting Word Frequencies with Python </h2>\n",
    "<ul> \n",
    "    <li> \n",
    "        <a href=\"https://programminghistorian.org/en/lessons/counting-frequencies\">\n",
    "            Programming Historian Lesson\n",
    "        </a>\n",
    "    </li>\n",
    "    <li> \n",
    "        <a href=\"https://github.com/laurenlangbort/Word-Frequencies\">\n",
    "            My File\n",
    "        </a>\n",
    "    </li>\n",
    "</ul>\n",
    "<p> Brief Recap: This was one of the homework assignments. I have a bit of coding knowledge so when I think about finding the word frequency, I would only think about using a python dictionary. But this lesson went more in depth to use obo.py. This lesson helped me with dealing with tokenization issues. It showed how to filter out stop words and punctionation which is really helpful in text analysis. </p>\n"
   ]
  },
  {
   "cell_type": "markdown",
   "id": "6cca25f9",
   "metadata": {},
   "source": [
    "<h2> Lesson 3: Downloading Web Pages with Python </h2>\n",
    "<ul> \n",
    "    <li> \n",
    "        <a href=\"https://programminghistorian.org/en/lessons/working-with-web-pages?utm_source=chatgpt.com\">\n",
    "            Programming Historian Lesson\n",
    "        </a>\n",
    "    </li>\n",
    "    <li> \n",
    "        <a href=\"/Downloading-Web-Pages-with-Python.ipynb\">\n",
    "            My File\n",
    "        </a>\n",
    "    </li>\n",
    "</ul>\n",
    "<p> Brief Recap: I found this lesson interesting. It went over the structure of URLS and the python library urllib. Urllib allows you to interact with URLs. In this lesson I used urllib to open a website found on a url and save the result of that process into a variable. I also learned how to get the HTML from a URL and create a local HTML file, where you could inspect the code locally. I think this could be useful if you are trying to recreate a website or inspect code for how it is built.\n",
    " </p>\n"
   ]
  }
 ],
 "metadata": {
  "language_info": {
   "name": "python"
  }
 },
 "nbformat": 4,
 "nbformat_minor": 5
}
